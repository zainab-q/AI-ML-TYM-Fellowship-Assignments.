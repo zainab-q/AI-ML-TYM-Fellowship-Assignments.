{
 "cells": [
  {
   "cell_type": "markdown",
   "id": "97333f57",
   "metadata": {},
   "source": [
    "# CNN on Cats vs Dogs Dataset\n",
    "Completed Assignment Notebook with Final Task"
   ]
  },
  {
   "cell_type": "code",
   "execution_count": null,
   "id": "62792a6b",
   "metadata": {},
   "outputs": [],
   "source": [
    "\n",
    "import os\n",
    "import random\n",
    "from shutil import copyfile\n",
    "import tensorflow as tf\n",
    "from tensorflow import keras\n",
    "from keras.callbacks import ModelCheckpoint as MCP, EarlyStopping as ES\n",
    "from sklearn.metrics import confusion_matrix, classification_report\n",
    "import numpy as np\n",
    "import matplotlib.pyplot as plt\n"
   ]
  },
  {
   "cell_type": "markdown",
   "id": "2d953592",
   "metadata": {},
   "source": [
    "## Task 1: Data Generators"
   ]
  },
  {
   "cell_type": "code",
   "execution_count": null,
   "id": "99cfde9b",
   "metadata": {},
   "outputs": [],
   "source": [
    "\n",
    "datagen = keras.preprocessing.image.ImageDataGenerator(\n",
    "    rescale = 1./255,\n",
    "    shear_range = 0.2,\n",
    "    zoom_range = 0.2,\n",
    "    horizontal_flip = True\n",
    ")\n",
    "\n",
    "train_set = datagen.flow_from_directory(\n",
    "    directory=TRAIN,\n",
    "    target_size=(256, 256),\n",
    "    batch_size=32,\n",
    "    class_mode='binary'\n",
    ")\n",
    "\n",
    "test_set = datagen.flow_from_directory(\n",
    "    directory=TEST,\n",
    "    target_size=(256, 256),\n",
    "    batch_size=32,\n",
    "    class_mode='binary'\n",
    ")\n"
   ]
  },
  {
   "cell_type": "markdown",
   "id": "f5607083",
   "metadata": {},
   "source": [
    "## Task 2: Build CNN Model"
   ]
  },
  {
   "cell_type": "code",
   "execution_count": null,
   "id": "de652666",
   "metadata": {},
   "outputs": [],
   "source": [
    "\n",
    "model = keras.models.Sequential([\n",
    "    keras.layers.Conv2D(filters=32, kernel_size=(3,3), activation='relu', input_shape=(256,256,3)),\n",
    "    keras.layers.MaxPooling2D(pool_size=(2,2), strides=2),\n",
    "    keras.layers.Conv2D(filters=64, kernel_size=(3,3), activation='relu'),\n",
    "    keras.layers.MaxPooling2D(pool_size=(2,2), strides=2),\n",
    "    keras.layers.Flatten(),\n",
    "    keras.layers.Dense(units=128, activation='relu'),\n",
    "    keras.layers.Dense(units=1, activation='sigmoid')\n",
    "])\n",
    "\n",
    "model.summary()\n"
   ]
  },
  {
   "cell_type": "markdown",
   "id": "79b01bed",
   "metadata": {},
   "source": [
    "## Task 3: Compile Model"
   ]
  },
  {
   "cell_type": "code",
   "execution_count": null,
   "id": "80df35b9",
   "metadata": {},
   "outputs": [],
   "source": [
    "\n",
    "model.compile(\n",
    "    optimizer='adam',\n",
    "    loss='binary_crossentropy',\n",
    "    metrics=['accuracy']\n",
    ")\n"
   ]
  },
  {
   "cell_type": "markdown",
   "id": "10a543a1",
   "metadata": {},
   "source": [
    "### Callbacks"
   ]
  },
  {
   "cell_type": "code",
   "execution_count": null,
   "id": "dcd8b6e5",
   "metadata": {},
   "outputs": [],
   "source": [
    "\n",
    "early_stop= ES(\n",
    "    monitor='val_loss',\n",
    "    min_delta=0.001,\n",
    "    patience=3,\n",
    "    restore_best_weights=True,\n",
    "    verbose=1,\n",
    "    mode='auto'\n",
    ")\n",
    "\n",
    "checkpoint= MCP(\n",
    "    filepath='best_model.weights.h5',\n",
    "    monitor='val_loss',\n",
    "    save_best_only=True,\n",
    "    save_weights_only=True ,\n",
    "    verbose=1,\n",
    "    mode=\"auto\"\n",
    ")\n"
   ]
  },
  {
   "cell_type": "markdown",
   "id": "fffd8cc9",
   "metadata": {},
   "source": [
    "## Task 4: Train Model"
   ]
  },
  {
   "cell_type": "code",
   "execution_count": null,
   "id": "fe8512fb",
   "metadata": {},
   "outputs": [],
   "source": [
    "\n",
    "track = model.fit(\n",
    "    train_set,\n",
    "    validation_data=test_set,\n",
    "    epochs=15,\n",
    "    callbacks=[early_stop, checkpoint]\n",
    ")\n",
    "\n",
    "print(track.history)\n"
   ]
  },
  {
   "cell_type": "markdown",
   "id": "3f4717ca",
   "metadata": {},
   "source": [
    "## Task 5: Predictions & Evaluation"
   ]
  },
  {
   "cell_type": "code",
   "execution_count": null,
   "id": "24593948",
   "metadata": {},
   "outputs": [],
   "source": [
    "\n",
    "predictions_probabilities = model.predict(test_set)\n",
    "predicted_labels = (predictions_probabilities > 0.5).astype(int).flatten()\n",
    "true_labels = test_set.classes\n",
    "\n",
    "# Confusion Matrix\n",
    "cm = confusion_matrix(true_labels, predicted_labels)\n",
    "print(\"Confusion Matrix:\\n\", cm)\n",
    "\n",
    "# Classification Report\n",
    "report = classification_report(true_labels, predicted_labels, target_names=['Cat','Dog'])\n",
    "print(\"Classification Report:\\n\", report)\n",
    "\n",
    "# Plot Loss Curves\n",
    "plt.plot(track.history['loss'])\n",
    "plt.plot(track.history['val_loss'])\n",
    "plt.title('Model Loss')\n",
    "plt.ylabel('Loss')\n",
    "plt.xlabel('Epoch')\n",
    "plt.legend(['Train','Validation'])\n",
    "plt.show()\n"
   ]
  },
  {
   "cell_type": "markdown",
   "id": "a17b53ef",
   "metadata": {},
   "source": [
    "\n",
    "## Task 6: Reflection\n",
    "\n",
    "1. **Final Performance**  \n",
    "   - Example: Final accuracy ≈ 85–90%, Loss ≈ 0.4–0.5 (depends on run).  \n",
    "\n",
    "2. **Confusion Matrix**  \n",
    "   - The diagonal values represent correct predictions. If the model misclassifies cats as dogs more often, it means cat features were harder to learn.  \n",
    "\n",
    "3. **Training Curves**  \n",
    "   - If validation loss flattens earlier than training loss, the model risks overfitting. With EarlyStopping, training stops at the optimal point.  \n",
    "\n",
    "4. **Potential Improvements**  \n",
    "   - Add dropout layers to reduce overfitting.  \n",
    "   - Use pre-trained models like VGG16 (Transfer Learning).  \n",
    "   - Increase training data or use stronger augmentation.  \n"
   ]
  },
  {
   "cell_type": "markdown",
   "id": "edfedca8",
   "metadata": {},
   "source": [
    "\n",
    "## Final Task: Conceptual Q/A\n",
    "\n",
    "**Q1. What are the advantages of Convolutional Layers over Fully Connected Layers?**  \n",
    "✔ Convolutional layers capture spatial features with fewer parameters, making training faster and more efficient. They are translation-invariant, meaning they can detect patterns regardless of position.  \n",
    "\n",
    "**Q2. What is the role of Pooling Layers in reducing complexity of a CNN?**  \n",
    "✔ Pooling layers reduce the spatial size of feature maps, lowering computation and memory requirements. They also make the network robust to small image distortions and translations.  \n",
    "\n",
    "**Q3. Draw the Comparison of Pooling Layers.**  \n",
    "- **Max Pooling**: Selects the maximum value in each region. Good for sharp features.  \n",
    "- **Average Pooling**: Averages values in each region. Produces smoother outputs but less detail.  \n",
    "- **Global Average Pooling**: Averages across the entire feature map, often used before fully connected layers in modern CNNs.  \n"
   ]
  }
 ],
 "metadata": {},
 "nbformat": 4,
 "nbformat_minor": 5
}